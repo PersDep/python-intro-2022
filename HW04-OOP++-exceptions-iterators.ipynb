{
  "cells": [
    {
      "cell_type": "markdown",
      "metadata": {
        "id": "k-xtEmeNQroi"
      },
      "source": [
        "**Задача 1. Определяем размер:** Написать декоратор класса sizer, который добавляет в него поле size, равное длине объекта, если у объекта есть длина, или модулю целочисленного представления объекта в противном случае (предполагается, что ошибок нет). Предоставить пользователю возможность произвольно менять это поле.\n",
        "\n",
        "*Примеры*\n",
        "\n",
        "```\n",
        "@sizer\n",
        "class S(str): pass\n",
        "\n",
        "@sizer\n",
        "class N(float): pass\n",
        "\n",
        "s = S(\"QSXWDC\")\n",
        "n = N(2.718281828459045)\n",
        "print(s, n)\n",
        "print(s.size, n.size)\n",
        "s.size, n.size = \"Wait\", \"what?\"\n",
        "print(s.size, n.size)\n",
        "```\n",
        "\n",
        "Вывод:\n",
        "\n",
        "```\n",
        "QSXWDC 2.718281828459045\n",
        "6 2\n",
        "Wait what?\n",
        "```"
      ]
    },
    {
      "cell_type": "markdown",
      "metadata": {
        "id": "dwtgETJhCJSr"
      },
      "source": [
        "**Задача 2. Логирование исключений:**\n",
        "\n",
        "Есть функция, принимающая коллекцию и ключ/индекс для получения из неё элемента:\n"
      ]
    },
    {
      "cell_type": "code",
      "execution_count": 1,
      "metadata": {
        "id": "ng94YRiLauWQ"
      },
      "outputs": [],
      "source": [
        "def get_item(collection, id):\n",
        "  return collection[id]"
      ]
    },
    {
      "cell_type": "markdown",
      "metadata": {
        "id": "IL3vQ7tbazys"
      },
      "source": [
        "Напишите для неё такой декоратор, чтобы в случае KeyError и IndexError  исключений она не только выбрасывала их (как это и происходит по умолчанию), но и печатала бы в стандартный поток вывода вместе с переданными аргументами и временем возникновения, в формате ```%time %exception_text \\n %collection %id \\n\\n```"
      ]
    },
    {
      "cell_type": "markdown",
      "metadata": {},
      "source": [
        "**Задача 3. Итерируемся:** Написать функцию chainslice(begin, end, seq0, seq1, …), которая принимает не менее трёх параметров: два целых числа и не менее одной последовательности. Рассмотрим последовательность seq, образованную всеми элементами seq0, затем — всеми элементами seq1, и т. д. Вернуть эта функция должна итератор, пробегающий элементы последовательности seq с begin до end - 1 включительно."
      ]
    }
  ],
  "metadata": {
    "colab": {
      "collapsed_sections": [],
      "name": "HW4-OOP+.ipynb\"",
      "provenance": []
    },
    "kernelspec": {
      "display_name": "Python 3.10.0 64-bit",
      "language": "python",
      "name": "python3"
    },
    "language_info": {
      "name": "python",
      "version": "3.10.0"
    },
    "vscode": {
      "interpreter": {
        "hash": "26de051ba29f2982a8de78e945f0abaf191376122a1563185a90213a26c5da77"
      }
    }
  },
  "nbformat": 4,
  "nbformat_minor": 0
}
